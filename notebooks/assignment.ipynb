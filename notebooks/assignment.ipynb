{
 "cells": [
  {
   "cell_type": "markdown",
   "id": "b967ebc8",
   "metadata": {},
   "source": [
    "# Probability distribution problems"
   ]
  },
  {
   "cell_type": "markdown",
   "id": "c9b71587",
   "metadata": {},
   "source": [
    "## Binomial distribution\n",
    "\n",
    "In probability theory and statistics, the binomial distribution is the discrete probability distribution that gives only two possible results in an experiment; for example, when you flip a coin, it can be either head or tails."
   ]
  },
  {
   "cell_type": "code",
   "execution_count": null,
   "id": "4eb16d6e",
   "metadata": {},
   "outputs": [],
   "source": [
    "from scipy.stats import binom\n",
    "\n",
    "# Define all the probability functions related to this distribution\n",
    "def dbinom(x, size, prob = 0.5):\n",
    "    '''Calculates the point estimate of the binomial distribution'''\n",
    "\n",
    "    return binom.pmf(k = x, n = size, p = prob, loc = 0)\n",
    "\n",
    "\n",
    "def pbinom(q, size, prob = 0.5):\n",
    "    '''Calculates the cumulative of the binomial distribution'''\n",
    "\n",
    "    return binom.cdf(k = q, n = size, p = prob, loc = 0)\n",
    "\n",
    "\n",
    "def qbinom(p, size, prob = 0.5):\n",
    "    '''Calculates the quantile function from the binomial distribution'''\n",
    "\n",
    "    return binom.ppf(q = p, n = size, p = prob, loc = 0)\n",
    "\n",
    "\n",
    "def rbinom(n, size, prob = 0.5):\n",
    "    '''Generates random variables from the binomial distribution'''\n",
    "    \n",
    "    return binom.rvs(n = size, p = prob, size = n)"
   ]
  },
  {
   "cell_type": "code",
   "execution_count": null,
   "id": "6cf6313a",
   "metadata": {},
   "outputs": [],
   "source": [
    "# Binomial(10, 0.2) distribution, where n = 10 is the number of trials and p = 0.2 is the probability of success in a single trial\n",
    "import numpy as np\n",
    "\n",
    "np.random.seed(42)\n",
    "\n",
    "print(f\"Probability that a Binomial(10, 0.2) takes the value 2: {dbinom(2, size = 10, prob = 0.2)}\")\n",
    "print(f\"Probability that a Binomial(10, 0.2) will take a value less than 2: {pbinom(2, size = 10, prob = 0.2)}\")\n",
    "print(f\"Which value of a Binomial(10, 0.2) has a cumulative probability of 0.9? {qbinom(0.9, size = 10, prob = 0.2)}\")\n",
    "print(f\"Generate 2000 random values from a Binomial(10, 0.2) distribution: {rbinom(2000, size = 10, prob = 0.2)}\")"
   ]
  },
  {
   "cell_type": "code",
   "execution_count": null,
   "id": "69fd07da",
   "metadata": {},
   "outputs": [],
   "source": [
    "import matplotlib.pyplot as plt\n",
    "\n",
    "np.random.seed(42)\n",
    "\n",
    "size = 10\n",
    "prob = 0.2\n",
    "data = rbinom(2000, size = 10, prob = 0.2)\n",
    "\n",
    "pmf = dbinom(data, size = size, prob = prob)\n",
    "cdf = pbinom(data, size = size, prob = prob)\n",
    "ppf = qbinom(data, size = size, prob = prob)\n",
    "\n",
    "fig, axis = plt.subplots(3, 1, figsize = (9, 12))\n",
    "\n",
    "axis[0].stem(data, pmf, \"r-\")\n",
    "axis[1].stem(data, cdf, \"b-\")\n",
    "axis[2].stem(data, ppf, \"g-\")\n",
    "\n",
    "# Adjust the layout\n",
    "plt.tight_layout()\n",
    "\n",
    "# Save the plot\n",
    "plt.savefig('assets/binomial.png', dpi=100, bbox_inches='tight')\n",
    "\n",
    "# Show the plot\n",
    "plt.show()"
   ]
  },
  {
   "cell_type": "markdown",
   "id": "8aa7eaa0",
   "metadata": {},
   "source": [
    "## Exercise 1\n",
    "\n",
    "Write the above functions but for both normal and uniform distributions."
   ]
  },
  {
   "cell_type": "code",
   "execution_count": null,
   "id": "98d5f012",
   "metadata": {},
   "outputs": [],
   "source": [
    "from scipy.stats import norm, uniform\n",
    "\n",
    "# Your code here"
   ]
  },
  {
   "cell_type": "markdown",
   "id": "869a9ae1",
   "metadata": {},
   "source": [
    "### Normal & uniform distributions"
   ]
  },
  {
   "cell_type": "code",
   "execution_count": null,
   "id": "19103d5f",
   "metadata": {},
   "outputs": [],
   "source": [
    "# Draw the same plots as above, but for uniform and normal distributions"
   ]
  }
 ],
 "metadata": {
  "kernelspec": {
   "display_name": "Python 3",
   "language": "python",
   "name": "python3"
  },
  "language_info": {
   "codemirror_mode": {
    "name": "ipython",
    "version": 3
   },
   "file_extension": ".py",
   "mimetype": "text/x-python",
   "name": "python",
   "nbconvert_exporter": "python",
   "pygments_lexer": "ipython3",
   "version": "3.11.4"
  }
 },
 "nbformat": 4,
 "nbformat_minor": 5
}
